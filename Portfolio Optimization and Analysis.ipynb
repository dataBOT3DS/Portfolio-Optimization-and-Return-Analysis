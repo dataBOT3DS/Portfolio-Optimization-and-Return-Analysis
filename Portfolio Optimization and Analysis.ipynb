{
 "cells": [
  {
   "cell_type": "code",
   "execution_count": 1,
   "metadata": {},
   "outputs": [],
   "source": [
    "import pandas as pd\n",
    "import quandl"
   ]
  },
  {
   "cell_type": "code",
   "execution_count": 8,
   "metadata": {},
   "outputs": [],
   "source": [
    "#get Quandl private key\n",
    "quandl_private_key = open('private/quandlKey.txt', 'r').read()"
   ]
  },
  {
   "cell_type": "code",
   "execution_count": 11,
   "metadata": {},
   "outputs": [],
   "source": [
    "#start and end date of the analysis\n",
    "start_date = pd.to_datetime('2017-01-01')\n",
    "end_date = pd.to_datetime('2018-12-22')"
   ]
  },
  {
   "cell_type": "code",
   "execution_count": 12,
   "metadata": {},
   "outputs": [],
   "source": [
    "portfolio_list = ['SPTL', 'THOMASCOOK', 'TATAMTRDVR', 'ASHIANA']"
   ]
  },
  {
   "cell_type": "code",
   "execution_count": 24,
   "metadata": {},
   "outputs": [],
   "source": [
    "portfolio_close_price = pd.DataFrame()\n",
    "\n",
    "for stock in portfolio_list:\n",
    "    portfolio_close_price[stock] = quandl.get(\"NSE/{}.5\".format(stock), authtoken=quandl_private_key, start_date=start_date, end_date=end_date)['Close']"
   ]
  },
  {
   "cell_type": "code",
   "execution_count": 25,
   "metadata": {},
   "outputs": [
    {
     "name": "stdout",
     "output_type": "stream",
     "text": [
      "<class 'pandas.core.frame.DataFrame'>\n",
      "DatetimeIndex: 340 entries, 2017-08-08 to 2018-12-21\n",
      "Data columns (total 4 columns):\n",
      "SPTL          340 non-null float64\n",
      "THOMASCOOK    340 non-null float64\n",
      "TATAMTRDVR    340 non-null float64\n",
      "ASHIANA       340 non-null float64\n",
      "dtypes: float64(4)\n",
      "memory usage: 13.3 KB\n"
     ]
    }
   ],
   "source": [
    "portfolio_close_price.info()"
   ]
  },
  {
   "cell_type": "code",
   "execution_count": 26,
   "metadata": {},
   "outputs": [
    {
     "data": {
      "text/html": [
       "<div>\n",
       "<style scoped>\n",
       "    .dataframe tbody tr th:only-of-type {\n",
       "        vertical-align: middle;\n",
       "    }\n",
       "\n",
       "    .dataframe tbody tr th {\n",
       "        vertical-align: top;\n",
       "    }\n",
       "\n",
       "    .dataframe thead th {\n",
       "        text-align: right;\n",
       "    }\n",
       "</style>\n",
       "<table border=\"1\" class=\"dataframe\">\n",
       "  <thead>\n",
       "    <tr style=\"text-align: right;\">\n",
       "      <th></th>\n",
       "      <th>SPTL</th>\n",
       "      <th>THOMASCOOK</th>\n",
       "      <th>TATAMTRDVR</th>\n",
       "      <th>ASHIANA</th>\n",
       "    </tr>\n",
       "  </thead>\n",
       "  <tbody>\n",
       "    <tr>\n",
       "      <th>count</th>\n",
       "      <td>340.000000</td>\n",
       "      <td>340.000000</td>\n",
       "      <td>340.000000</td>\n",
       "      <td>340.000000</td>\n",
       "    </tr>\n",
       "    <tr>\n",
       "      <th>mean</th>\n",
       "      <td>60.089118</td>\n",
       "      <td>248.061765</td>\n",
       "      <td>182.644706</td>\n",
       "      <td>155.623382</td>\n",
       "    </tr>\n",
       "    <tr>\n",
       "      <th>std</th>\n",
       "      <td>26.042453</td>\n",
       "      <td>21.683914</td>\n",
       "      <td>50.753493</td>\n",
       "      <td>21.115043</td>\n",
       "    </tr>\n",
       "    <tr>\n",
       "      <th>min</th>\n",
       "      <td>21.500000</td>\n",
       "      <td>194.950000</td>\n",
       "      <td>85.900000</td>\n",
       "      <td>116.100000</td>\n",
       "    </tr>\n",
       "    <tr>\n",
       "      <th>25%</th>\n",
       "      <td>37.750000</td>\n",
       "      <td>233.887500</td>\n",
       "      <td>142.312500</td>\n",
       "      <td>135.500000</td>\n",
       "    </tr>\n",
       "    <tr>\n",
       "      <th>50%</th>\n",
       "      <td>58.575000</td>\n",
       "      <td>244.725000</td>\n",
       "      <td>190.225000</td>\n",
       "      <td>160.375000</td>\n",
       "    </tr>\n",
       "    <tr>\n",
       "      <th>75%</th>\n",
       "      <td>80.712500</td>\n",
       "      <td>269.300000</td>\n",
       "      <td>228.375000</td>\n",
       "      <td>172.650000</td>\n",
       "    </tr>\n",
       "    <tr>\n",
       "      <th>max</th>\n",
       "      <td>123.500000</td>\n",
       "      <td>292.150000</td>\n",
       "      <td>259.650000</td>\n",
       "      <td>199.500000</td>\n",
       "    </tr>\n",
       "  </tbody>\n",
       "</table>\n",
       "</div>"
      ],
      "text/plain": [
       "             SPTL  THOMASCOOK  TATAMTRDVR     ASHIANA\n",
       "count  340.000000  340.000000  340.000000  340.000000\n",
       "mean    60.089118  248.061765  182.644706  155.623382\n",
       "std     26.042453   21.683914   50.753493   21.115043\n",
       "min     21.500000  194.950000   85.900000  116.100000\n",
       "25%     37.750000  233.887500  142.312500  135.500000\n",
       "50%     58.575000  244.725000  190.225000  160.375000\n",
       "75%     80.712500  269.300000  228.375000  172.650000\n",
       "max    123.500000  292.150000  259.650000  199.500000"
      ]
     },
     "execution_count": 26,
     "metadata": {},
     "output_type": "execute_result"
    }
   ],
   "source": [
    "portfolio_close_price.describe()"
   ]
  },
  {
   "cell_type": "code",
   "execution_count": 27,
   "metadata": {},
   "outputs": [
    {
     "data": {
      "text/html": [
       "<div>\n",
       "<style scoped>\n",
       "    .dataframe tbody tr th:only-of-type {\n",
       "        vertical-align: middle;\n",
       "    }\n",
       "\n",
       "    .dataframe tbody tr th {\n",
       "        vertical-align: top;\n",
       "    }\n",
       "\n",
       "    .dataframe thead th {\n",
       "        text-align: right;\n",
       "    }\n",
       "</style>\n",
       "<table border=\"1\" class=\"dataframe\">\n",
       "  <thead>\n",
       "    <tr style=\"text-align: right;\">\n",
       "      <th></th>\n",
       "      <th>SPTL</th>\n",
       "      <th>THOMASCOOK</th>\n",
       "      <th>TATAMTRDVR</th>\n",
       "      <th>ASHIANA</th>\n",
       "    </tr>\n",
       "    <tr>\n",
       "      <th>Date</th>\n",
       "      <th></th>\n",
       "      <th></th>\n",
       "      <th></th>\n",
       "      <th></th>\n",
       "    </tr>\n",
       "  </thead>\n",
       "  <tbody>\n",
       "    <tr>\n",
       "      <th>2017-08-08</th>\n",
       "      <td>123.50</td>\n",
       "      <td>223.90</td>\n",
       "      <td>248.45</td>\n",
       "      <td>187.55</td>\n",
       "    </tr>\n",
       "    <tr>\n",
       "      <th>2017-08-09</th>\n",
       "      <td>117.35</td>\n",
       "      <td>223.50</td>\n",
       "      <td>242.25</td>\n",
       "      <td>185.25</td>\n",
       "    </tr>\n",
       "    <tr>\n",
       "      <th>2017-08-10</th>\n",
       "      <td>111.50</td>\n",
       "      <td>221.15</td>\n",
       "      <td>221.45</td>\n",
       "      <td>179.10</td>\n",
       "    </tr>\n",
       "    <tr>\n",
       "      <th>2017-08-11</th>\n",
       "      <td>105.95</td>\n",
       "      <td>219.75</td>\n",
       "      <td>223.20</td>\n",
       "      <td>172.15</td>\n",
       "    </tr>\n",
       "    <tr>\n",
       "      <th>2017-08-14</th>\n",
       "      <td>107.60</td>\n",
       "      <td>218.60</td>\n",
       "      <td>226.45</td>\n",
       "      <td>171.75</td>\n",
       "    </tr>\n",
       "  </tbody>\n",
       "</table>\n",
       "</div>"
      ],
      "text/plain": [
       "              SPTL  THOMASCOOK  TATAMTRDVR  ASHIANA\n",
       "Date                                               \n",
       "2017-08-08  123.50      223.90      248.45   187.55\n",
       "2017-08-09  117.35      223.50      242.25   185.25\n",
       "2017-08-10  111.50      221.15      221.45   179.10\n",
       "2017-08-11  105.95      219.75      223.20   172.15\n",
       "2017-08-14  107.60      218.60      226.45   171.75"
      ]
     },
     "execution_count": 27,
     "metadata": {},
     "output_type": "execute_result"
    }
   ],
   "source": [
    "portfolio_close_price.head()"
   ]
  },
  {
   "cell_type": "code",
   "execution_count": null,
   "metadata": {},
   "outputs": [],
   "source": []
  }
 ],
 "metadata": {
  "kernelspec": {
   "display_name": "Python 3",
   "language": "python",
   "name": "python3"
  },
  "language_info": {
   "codemirror_mode": {
    "name": "ipython",
    "version": 3
   },
   "file_extension": ".py",
   "mimetype": "text/x-python",
   "name": "python",
   "nbconvert_exporter": "python",
   "pygments_lexer": "ipython3",
   "version": "3.6.7"
  }
 },
 "nbformat": 4,
 "nbformat_minor": 2
}
